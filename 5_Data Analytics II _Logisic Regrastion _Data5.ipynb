{
  "cells": [
    {
      "cell_type": "code",
      "execution_count": 11,
      "metadata": {
        "colab": {
          "base_uri": "https://localhost:8080/"
        },
        "id": "KP2Ssttz5-wu",
        "outputId": "1c1895b4-4f1e-40d6-b488-fd7e642e6e38"
      },
      "outputs": [
        {
          "name": "stdout",
          "output_type": "stream",
          "text": [
            "Accuracy: 96.00%\n",
            "Precision: 0.75\n",
            "Recall: 0.75\n",
            "F1 Score: 0.75\n",
            "Specificity: 0.98\n",
            "Enter values for the following features:\n",
            "Feature 1: 2\n",
            "Feature 2: 12\n",
            "Feature 3: 45000\n",
            "Predicted Output: 0\n"
          ]
        }
      ],
      "source": [
        "import pandas as pd\n",
        "import numpy as np\n",
        "from sklearn.model_selection import train_test_split\n",
        "from sklearn.linear_model import LogisticRegression\n",
        "from sklearn.metrics import confusion_matrix\n",
        "\n",
        "# Load dataset\n",
        "df = pd.read_csv('data5.csv')\n",
        "\n",
        "# Drop 'Gender' column\n",
        "df1 = df.drop(\"Genre\", axis=1)\n",
        "\n",
        "# Define features and target variable\n",
        "y = df1.iloc[:, -1].values  # Target variable\n",
        "X = df1.iloc[:, :-1].values  # Feature set\n",
        "\n",
        "# Split the data into train and test sets\n",
        "X_train, X_test, y_train, y_test = train_test_split(X, y, test_size=0.25, random_state=2)\n",
        "\n",
        "# Train Logistic Regression model\n",
        "LR = LogisticRegression()\n",
        "LR.fit(X_train, y_train)\n",
        "\n",
        "\n",
        "\n",
        "# Compute confusion matrix\n",
        "y_pred = LR.predict(X_test)\n",
        "tn, fp, fn, tp = confusion_matrix(y_test, y_pred).ravel()\n",
        "\n",
        "# Calculate metrics\n",
        "accuracy = (tn + tp) * 100 / (tp + tn + fp + fn)\n",
        "precision = tp / (tp + fp)\n",
        "recall = tp / (tp + fn)\n",
        "f1_score = (2 * precision * recall) / (precision + recall)\n",
        "specificity = tn / (tn + fp)\n",
        "\n",
        "# Display metrics\n",
        "print(f\"Accuracy: {accuracy:.2f}%\")\n",
        "print(f\"Precision: {precision:.2f}\")\n",
        "print(f\"Recall: {recall:.2f}\")\n",
        "print(f\"F1 Score: {f1_score:.2f}\")\n",
        "print(f\"Specificity: {specificity:.2f}\")\n",
        "\n",
        "# Take user input for feature values\n",
        "print(\"Enter values for the following features:\")\n",
        "input_features = []\n",
        "for i in range(X_train.shape[1]):\n",
        "    val = float(input(f\"Feature {i+1}: \"))\n",
        "    input_features.append(val)\n",
        "\n",
        "# Convert input into numpy array and reshape\n",
        "input_array = np.array(input_features).reshape(1, -1)\n",
        "\n",
        "# Make prediction\n",
        "prediction = LR.predict(input_array)[0]\n",
        "print(f\"Predicted Output: {prediction}\")\n",
        "\n"
      ]
    },
    {
      "cell_type": "code",
      "execution_count": null,
      "metadata": {},
      "outputs": [],
      "source": [
        "Tho-\n",
        "1. Logistic Regression\n",
        "Logistic Regression is a statistical method used for binary classification problems, \n",
        "where the goal is to predict the probability that a given input belongs to a specific class (usually represented as 0 or 1).\n",
        " Unlike linear regression, which predicts continuous values, logistic regression uses the logistic function (sigmoid) to map predicted values to a range between 0 and 1.\n",
        " Sigmoid shape graph\n",
        "\n",
        "Accuracy: The proportion of correct predictions made by the model.\n",
        "\n",
        "Error Rate: The proportion of incorrect predictions made by the model.\n",
        "\n",
        "Precision: The proportion of positive predictions that are correctly identified.\n",
        "\n",
        "Recall (Sensitivity): The proportion of actual positive instances that are correctly identified.\n",
        "\n",
        "F1 Score: The harmonic mean of Precision and Recall, providing a balance between the two.\n",
        "    \n",
        "   *differnce linear vs logistics \n",
        "    Linear Regression:\n",
        "\n",
        "Purpose: Used for predicting continuous values (e.g., house prices).\n",
        "\n",
        "Output: A real number (any value in range )\n",
        "\n",
        "Model: Assumes a linear relationship between independent variables and the target variable.\n",
        "\n",
        "\n",
        "Logistic Regression:\n",
        "\n",
        "Purpose: Used for binary classification (e.g., predicting whether a customer will buy a product or not).\n",
        "\n",
        "Output: A probability value between 0 and 1.\n",
        "\n",
        "Model: Uses the logistic (sigmoid) function to model the probability of a class."
      ]
    }
  ],
  "metadata": {
    "colab": {
      "provenance": []
    },
    "kernelspec": {
      "display_name": "Python 3 (ipykernel)",
      "language": "python",
      "name": "python3"
    },
    "language_info": {
      "codemirror_mode": {
        "name": "ipython",
        "version": 3
      },
      "file_extension": ".py",
      "mimetype": "text/x-python",
      "name": "python",
      "nbconvert_exporter": "python",
      "pygments_lexer": "ipython3",
      "version": "3.8.10"
    }
  },
  "nbformat": 4,
  "nbformat_minor": 0
}
